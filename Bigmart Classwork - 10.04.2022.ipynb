{
 "cells": [
  {
   "cell_type": "code",
   "execution_count": 155,
   "id": "d35926eb",
   "metadata": {},
   "outputs": [],
   "source": [
    "import pandas as pd\n",
    "import numpy as np\n",
    "import matplotlib.pyplot as plt\n",
    "import seaborn as sns\n",
    "import os\n",
    "import warnings"
   ]
  },
  {
   "cell_type": "code",
   "execution_count": 149,
   "id": "735b31cb",
   "metadata": {},
   "outputs": [],
   "source": [
    "import os"
   ]
  },
  {
   "cell_type": "code",
   "execution_count": 156,
   "id": "9a6b703e",
   "metadata": {},
   "outputs": [
    {
     "data": {
      "text/plain": [
       "'C:\\\\Users\\\\nisha pujari\\\\Documents\\\\nisha study ds\\\\Big Mart Sales Problem'"
      ]
     },
     "execution_count": 156,
     "metadata": {},
     "output_type": "execute_result"
    }
   ],
   "source": [
    "os.getcwd()"
   ]
  },
  {
   "cell_type": "code",
   "execution_count": 157,
   "id": "e45a1cc2",
   "metadata": {},
   "outputs": [],
   "source": [
    "    os.chdir(\"C:/Users/nisha pujari/Documents/nisha study ds/Big Mart Sales Problem\")"
   ]
  },
  {
   "cell_type": "code",
   "execution_count": 152,
   "id": "7640297b",
   "metadata": {},
   "outputs": [],
   "source": [
    "train=pd.read_csv(\"train_v9rqX0R.csv\",encoding=\"unicode_escape\")\n",
    "test=pd.read_csv(\"test_AbJTz2l.csv\",encoding=\"unicode_escape\")\n",
    "\n"
   ]
  },
  {
   "cell_type": "code",
   "execution_count": 158,
   "id": "fd92b386",
   "metadata": {},
   "outputs": [],
   "source": [
    "bmart1=train.append(test)\n"
   ]
  },
  {
   "cell_type": "code",
   "execution_count": 159,
   "id": "7f2b9bff",
   "metadata": {},
   "outputs": [
    {
     "ename": "NameError",
     "evalue": "name 'bmart' is not defined",
     "output_type": "error",
     "traceback": [
      "\u001b[1;31m---------------------------------------------------------------------------\u001b[0m",
      "\u001b[1;31mNameError\u001b[0m                                 Traceback (most recent call last)",
      "\u001b[1;32mC:\\Users\\NISHAP~1\\AppData\\Local\\Temp/ipykernel_6256/1150225421.py\u001b[0m in \u001b[0;36m<module>\u001b[1;34m\u001b[0m\n\u001b[1;32m----> 1\u001b[1;33m \u001b[0mbmart\u001b[0m\u001b[1;33m.\u001b[0m\u001b[0mshape\u001b[0m\u001b[1;33m\u001b[0m\u001b[1;33m\u001b[0m\u001b[0m\n\u001b[0m",
      "\u001b[1;31mNameError\u001b[0m: name 'bmart' is not defined"
     ]
    }
   ],
   "source": [
    "bmart.shape\n"
   ]
  },
  {
   "cell_type": "code",
   "execution_count": null,
   "id": "be4a185b",
   "metadata": {},
   "outputs": [],
   "source": [
    "bmart[\"Item_Fat_Content\"].value_counts(normalize=True)*100"
   ]
  },
  {
   "cell_type": "code",
   "execution_count": null,
   "id": "229c1f65",
   "metadata": {},
   "outputs": [],
   "source": [
    "bmart['Item_Fat_Content']=bmart['Item_Fat_Content'].replace(['LF','low fat'],'Low Fat')"
   ]
  },
  {
   "cell_type": "code",
   "execution_count": null,
   "id": "9f493c6d",
   "metadata": {},
   "outputs": [],
   "source": [
    "bmart['Item_Fat_Content']=bmart['Item_Fat_Content'].replace(['reg'],'Regular')"
   ]
  },
  {
   "cell_type": "code",
   "execution_count": null,
   "id": "c92ab9f7",
   "metadata": {},
   "outputs": [],
   "source": [
    "bmart[\"Item_Fat_Content\"].value_counts(normalize=True)*100"
   ]
  },
  {
   "cell_type": "code",
   "execution_count": null,
   "id": "51e887c8",
   "metadata": {},
   "outputs": [],
   "source": [
    "bmart.info()"
   ]
  },
  {
   "cell_type": "code",
   "execution_count": null,
   "id": "f6cf9bfd",
   "metadata": {},
   "outputs": [],
   "source": [
    "bmart[\"Item_Identifier\"].nunique"
   ]
  },
  {
   "cell_type": "code",
   "execution_count": null,
   "id": "8ccfc12f",
   "metadata": {},
   "outputs": [],
   "source": [
    "bmart[\"Item_Identifier\"].str[:2].value_counts(normalize=True)*100"
   ]
  },
  {
   "cell_type": "code",
   "execution_count": null,
   "id": "c448b666",
   "metadata": {},
   "outputs": [],
   "source": [
    "import numpy as np"
   ]
  },
  {
   "cell_type": "code",
   "execution_count": null,
   "id": "e01b4ec2",
   "metadata": {},
   "outputs": [],
   "source": [
    "bmart[\"Item_Identifier\"].str[:2].value_counts(normalize=True)"
   ]
  },
  {
   "cell_type": "code",
   "execution_count": null,
   "id": "f8efd284",
   "metadata": {},
   "outputs": [],
   "source": [
    "warnings.filterwarnings(\"ignore\")"
   ]
  },
  {
   "cell_type": "code",
   "execution_count": null,
   "id": "a85c952a",
   "metadata": {},
   "outputs": [],
   "source": [
    "bmart1.info"
   ]
  },
  {
   "cell_type": "code",
   "execution_count": null,
   "id": "8e2a969b",
   "metadata": {},
   "outputs": [],
   "source": [
    "bmart1.info()"
   ]
  },
  {
   "cell_type": "code",
   "execution_count": null,
   "id": "5b9f8215",
   "metadata": {},
   "outputs": [],
   "source": [
    "sns.distplot(bmart[\"Item_MRP\"])"
   ]
  },
  {
   "cell_type": "code",
   "execution_count": null,
   "id": "68d27772",
   "metadata": {},
   "outputs": [],
   "source": [
    "bmart.describe()"
   ]
  },
  {
   "cell_type": "code",
   "execution_count": null,
   "id": "6cc5b5df",
   "metadata": {},
   "outputs": [],
   "source": [
    "bmart[\"Item_MRP\"].describe()"
   ]
  },
  {
   "cell_type": "code",
   "execution_count": null,
   "id": "683935d9",
   "metadata": {},
   "outputs": [],
   "source": [
    "sns.distplot(bmart[\"Item_Outlet_Sales\"])"
   ]
  },
  {
   "cell_type": "code",
   "execution_count": null,
   "id": "978f2053",
   "metadata": {},
   "outputs": [],
   "source": [
    "bmart[\"Item_Type\"].value_counts(normalize=True)*100"
   ]
  },
  {
   "cell_type": "code",
   "execution_count": null,
   "id": "def0e332",
   "metadata": {},
   "outputs": [],
   "source": []
  },
  {
   "cell_type": "code",
   "execution_count": null,
   "id": "366dcdfc",
   "metadata": {},
   "outputs": [],
   "source": [
    "sns.distplot(bmart[\"Item_Visibility\"])"
   ]
  },
  {
   "cell_type": "code",
   "execution_count": null,
   "id": "82f78f64",
   "metadata": {},
   "outputs": [],
   "source": [
    "bmart[\"Item_Visibility\"].describe()*100"
   ]
  },
  {
   "cell_type": "code",
   "execution_count": null,
   "id": "d75bc84b",
   "metadata": {},
   "outputs": [],
   "source": [
    "bmart[\"Item_Visibility\"].describe()"
   ]
  },
  {
   "cell_type": "code",
   "execution_count": null,
   "id": "70560475",
   "metadata": {},
   "outputs": [],
   "source": [
    "sns.boxplot(bmart[\"Item_Visibility\"])"
   ]
  },
  {
   "cell_type": "code",
   "execution_count": null,
   "id": "7f38671d",
   "metadata": {},
   "outputs": [],
   "source": [
    "m=np.mean(bmart.Item_Visibility)\n",
    "sd=np.std(bmart.Item_Visibility)"
   ]
  },
  {
   "cell_type": "code",
   "execution_count": null,
   "id": "c74010a1",
   "metadata": {},
   "outputs": [],
   "source": [
    "m+3*sd"
   ]
  },
  {
   "cell_type": "code",
   "execution_count": null,
   "id": "4a11d080",
   "metadata": {},
   "outputs": [],
   "source": [
    "bmart[bmart['Item_Visibility']>m+3*sd]['Item_Visibility'].count()"
   ]
  },
  {
   "cell_type": "code",
   "execution_count": null,
   "id": "ed1d5430",
   "metadata": {},
   "outputs": [],
   "source": [
    "print(bmart[bmart['Item_Visibility']>np.percentile(bmart['Item_Visibility'],99)]['Item_Visibility'].count())\n",
    "np.percentile(bmart.Item_Visibility,99)"
   ]
  },
  {
   "cell_type": "code",
   "execution_count": null,
   "id": "f9adf377",
   "metadata": {},
   "outputs": [],
   "source": [
    "p99=np.percentile(bmart.Item_Visibility,99)\n",
    "bmart['Item_Visibility_m']=np.where(bmart.Item_Visibility>p99,p99,bmart.Item_Visibility)"
   ]
  },
  {
   "cell_type": "code",
   "execution_count": null,
   "id": "5107eb68",
   "metadata": {},
   "outputs": [],
   "source": [
    "(bmart[bmart[\"Item_Visibility\"]>m+3*sd]['Item_Visibility'].count()/bmart.shape[0])*100"
   ]
  },
  {
   "cell_type": "code",
   "execution_count": null,
   "id": "2fcfaaba",
   "metadata": {},
   "outputs": [],
   "source": [
    "sns.distplot(bmart['Item_Visibility'])"
   ]
  },
  {
   "cell_type": "code",
   "execution_count": null,
   "id": "cb3411bd",
   "metadata": {},
   "outputs": [],
   "source": [
    "np.percentile(bmart.Item_Visibility,99).(bmart['Item_Visibility']).count()"
   ]
  },
  {
   "cell_type": "code",
   "execution_count": null,
   "id": "0b0336e9",
   "metadata": {},
   "outputs": [],
   "source": [
    "np.percentile(bmart.Item_Visibility,75)"
   ]
  },
  {
   "cell_type": "code",
   "execution_count": null,
   "id": "d4524626",
   "metadata": {},
   "outputs": [],
   "source": [
    "np.percentile(bmart.Item_Visibility,25)"
   ]
  },
  {
   "cell_type": "code",
   "execution_count": null,
   "id": "36ab567a",
   "metadata": {},
   "outputs": [],
   "source": [
    "iqr=np.percentile(bmart.Item_Visibility,75)-np.percentile(bmart.Item_Visibility,25)"
   ]
  },
  {
   "cell_type": "code",
   "execution_count": null,
   "id": "72ba3cd9",
   "metadata": {},
   "outputs": [],
   "source": [
    "iqr"
   ]
  },
  {
   "cell_type": "code",
   "execution_count": null,
   "id": "3e4f8066",
   "metadata": {},
   "outputs": [],
   "source": [
    "iqr*1.5"
   ]
  },
  {
   "cell_type": "code",
   "execution_count": null,
   "id": "96b235ea",
   "metadata": {},
   "outputs": [],
   "source": [
    "(bmart[bmart[\"Item_Visibility\"]>iqr*1.5]['Item_Visibility'].count()/bmart.shape[0])*100"
   ]
  },
  {
   "cell_type": "code",
   "execution_count": null,
   "id": "80b59777",
   "metadata": {},
   "outputs": [],
   "source": [
    "bmart[bmart[\"Item_Visibility\"]>iqr*1.5]['Item_Visibility'].count()"
   ]
  },
  {
   "cell_type": "code",
   "execution_count": null,
   "id": "ce35f9dd",
   "metadata": {},
   "outputs": [],
   "source": [
    "p99=np.percentile(bmart.Item_Visibility,99)\n",
    "bmart['Item_Visibility_m']=np.where(bmart.Item_Visibility>p99,p99,bmart.Item_Visibility)"
   ]
  },
  {
   "cell_type": "code",
   "execution_count": null,
   "id": "aee8e2f6",
   "metadata": {},
   "outputs": [],
   "source": [
    "sns.boxplot(bmart.Item_Visibility_m)"
   ]
  },
  {
   "cell_type": "code",
   "execution_count": null,
   "id": "ef3c0219",
   "metadata": {},
   "outputs": [],
   "source": [
    "sns.distplot(bmart.Item_Visibility_m)"
   ]
  },
  {
   "cell_type": "code",
   "execution_count": null,
   "id": "b6c8df75",
   "metadata": {},
   "outputs": [],
   "source": [
    "bmart[\"Outlet_Identifier\"].describe()"
   ]
  },
  {
   "cell_type": "code",
   "execution_count": null,
   "id": "a629e5b2",
   "metadata": {},
   "outputs": [],
   "source": [
    "bmart[\"Outlet_Establishment_Year\"].value_counts"
   ]
  },
  {
   "cell_type": "code",
   "execution_count": null,
   "id": "f03a3635",
   "metadata": {},
   "outputs": [],
   "source": [
    "bmart[\"Outlet_Establishment_Year\"].describe()"
   ]
  },
  {
   "cell_type": "code",
   "execution_count": null,
   "id": "8a9241b4",
   "metadata": {},
   "outputs": [],
   "source": [
    "bmart[\"Outlet_Establishment_Year_m\"]=2021-bmart[\"Outlet_Establishment_Year\"]"
   ]
  },
  {
   "cell_type": "code",
   "execution_count": null,
   "id": "c06dd1cd",
   "metadata": {},
   "outputs": [],
   "source": [
    "bmart[\"Outlet_Establishment_Year_m\"].describe()"
   ]
  },
  {
   "cell_type": "code",
   "execution_count": null,
   "id": "451d186e",
   "metadata": {},
   "outputs": [],
   "source": [
    "sns.distplot(bmart.Outlet_Establishment_Year_m)"
   ]
  },
  {
   "cell_type": "code",
   "execution_count": null,
   "id": "8fa5f66b",
   "metadata": {},
   "outputs": [],
   "source": [
    "sns.scatterplot(x=\"Item_Outlet_Sales\",y=\"Outlet_Establishment_Year_m\",data=bmart)"
   ]
  },
  {
   "cell_type": "code",
   "execution_count": null,
   "id": "41f5dc10",
   "metadata": {},
   "outputs": [],
   "source": [
    "sns.distplot(bmart.Item_Weight)"
   ]
  },
  {
   "cell_type": "code",
   "execution_count": null,
   "id": "e9c8ece9",
   "metadata": {},
   "outputs": [],
   "source": [
    "bmart[\"Item_Weight\"].describe()"
   ]
  },
  {
   "cell_type": "code",
   "execution_count": null,
   "id": "56be4b20",
   "metadata": {},
   "outputs": [],
   "source": [
    "bmart[\"Item_Weight\"].isnull().sum()/bmart.shape[0]"
   ]
  },
  {
   "cell_type": "code",
   "execution_count": null,
   "id": "502c8230",
   "metadata": {},
   "outputs": [],
   "source": [
    "bmart[\"Item_Weight\"].isnull().sum()"
   ]
  },
  {
   "cell_type": "code",
   "execution_count": null,
   "id": "2c54abcb",
   "metadata": {},
   "outputs": [],
   "source": [
    "bmart.info()"
   ]
  },
  {
   "cell_type": "code",
   "execution_count": null,
   "id": "eb679cd9",
   "metadata": {},
   "outputs": [],
   "source": [
    "bmart"
   ]
  },
  {
   "cell_type": "code",
   "execution_count": null,
   "id": "f2455966",
   "metadata": {},
   "outputs": [],
   "source": [
    "sns.barplot(bmart.Item_Type,bmart.Item_Weight)"
   ]
  },
  {
   "cell_type": "code",
   "execution_count": null,
   "id": "61899d71",
   "metadata": {},
   "outputs": [],
   "source": [
    "bmart[\"Item_Weight\"]=bmart['Item_Weight'].fillna(bmart['Item_Weight'].groupby(bmart[\"Item_Type\"]).transform(\"mean\"))"
   ]
  },
  {
   "cell_type": "code",
   "execution_count": null,
   "id": "65e4d47f",
   "metadata": {},
   "outputs": [],
   "source": [
    "bmart[\"Item_Weight\"].describe()"
   ]
  },
  {
   "cell_type": "code",
   "execution_count": null,
   "id": "c5def5c7",
   "metadata": {},
   "outputs": [],
   "source": [
    "bmart[\"Item_Weight\"].isnull().sum()"
   ]
  },
  {
   "cell_type": "code",
   "execution_count": null,
   "id": "dc9f672e",
   "metadata": {},
   "outputs": [],
   "source": [
    "bmart[\"Outlet_Size\"].isnull().sum()"
   ]
  },
  {
   "cell_type": "code",
   "execution_count": null,
   "id": "09089d96",
   "metadata": {},
   "outputs": [],
   "source": [
    "bmart.shape"
   ]
  },
  {
   "cell_type": "code",
   "execution_count": null,
   "id": "ad73cd8b",
   "metadata": {},
   "outputs": [],
   "source": [
    "bmart[\"Item_Type\"].describe()"
   ]
  },
  {
   "cell_type": "code",
   "execution_count": null,
   "id": "cde17658",
   "metadata": {},
   "outputs": [],
   "source": [
    "pd.crosstab(bmart['Outlet_Location_Type'],bmart['Outlet_Identifier'])"
   ]
  },
  {
   "cell_type": "code",
   "execution_count": null,
   "id": "5f1d78e8",
   "metadata": {},
   "outputs": [],
   "source": [
    "bmart['Outlet_Identifier'].value_counts()"
   ]
  },
  {
   "cell_type": "code",
   "execution_count": null,
   "id": "fac43bcd",
   "metadata": {},
   "outputs": [],
   "source": [
    "bmart.isnull().sum()"
   ]
  },
  {
   "cell_type": "code",
   "execution_count": null,
   "id": "b12b611f",
   "metadata": {},
   "outputs": [],
   "source": [
    "bmart['Outlet_Identifier'].describe()"
   ]
  },
  {
   "cell_type": "code",
   "execution_count": null,
   "id": "1890c052",
   "metadata": {},
   "outputs": [],
   "source": [
    "sns.violinplot(bmart['Outlet_Size'],bmart['Item_Outlet_Sales'])"
   ]
  },
  {
   "cell_type": "code",
   "execution_count": null,
   "id": "2249688b",
   "metadata": {},
   "outputs": [],
   "source": [
    "bmart.info()"
   ]
  },
  {
   "cell_type": "code",
   "execution_count": null,
   "id": "56f22d91",
   "metadata": {},
   "outputs": [],
   "source": [
    "bmart['Outlet_Type'].describe()"
   ]
  },
  {
   "cell_type": "code",
   "execution_count": null,
   "id": "5cbe0c9e",
   "metadata": {},
   "outputs": [],
   "source": [
    "bmart['Outlet_Type'].unique()"
   ]
  },
  {
   "cell_type": "code",
   "execution_count": null,
   "id": "f67dc2bd",
   "metadata": {},
   "outputs": [],
   "source": [
    "bmart['Outlet_Type'].nunique()"
   ]
  },
  {
   "cell_type": "code",
   "execution_count": null,
   "id": "b7dc3691",
   "metadata": {},
   "outputs": [],
   "source": [
    "bmart['Outlet_Type'].value_counts(normalize=True)*100"
   ]
  },
  {
   "cell_type": "code",
   "execution_count": null,
   "id": "77269d77",
   "metadata": {},
   "outputs": [],
   "source": [
    "bmart['Outlet_Type'].value_counts()"
   ]
  },
  {
   "cell_type": "code",
   "execution_count": null,
   "id": "07e3e379",
   "metadata": {},
   "outputs": [],
   "source": [
    "pd.crosstab(bmart['Outlet_Type'],bmart['Outlet_Location_Type'])"
   ]
  },
  {
   "cell_type": "code",
   "execution_count": null,
   "id": "b020bddb",
   "metadata": {},
   "outputs": [],
   "source": [
    "pd.crosstab(bmart['Outlet_Identifier'],bmart['Outlet_Location_Type'])"
   ]
  },
  {
   "cell_type": "code",
   "execution_count": null,
   "id": "bc01ab2c",
   "metadata": {},
   "outputs": [],
   "source": [
    "pd.crosstab(bmart['Outlet_Identifier'],bmart['Outlet_Type'])"
   ]
  },
  {
   "cell_type": "code",
   "execution_count": null,
   "id": "7d7973fb",
   "metadata": {},
   "outputs": [],
   "source": [
    "sns.countplot(bmart['Outlet_Type'])"
   ]
  },
  {
   "cell_type": "code",
   "execution_count": null,
   "id": "5c0c7499",
   "metadata": {},
   "outputs": [],
   "source": [
    "sns.scatterplot(x=bmart['Outlet_Type'],y=bmart['Outlet_Identifier'])"
   ]
  },
  {
   "cell_type": "code",
   "execution_count": null,
   "id": "71bdff01",
   "metadata": {},
   "outputs": [],
   "source": [
    "bmart['Outlet_Establishment_Year_m']"
   ]
  },
  {
   "cell_type": "code",
   "execution_count": null,
   "id": "c7cb7e51",
   "metadata": {},
   "outputs": [],
   "source": [
    "bmart.info()"
   ]
  },
  {
   "cell_type": "code",
   "execution_count": null,
   "id": "38254aa4",
   "metadata": {},
   "outputs": [],
   "source": [
    "bmart.shape"
   ]
  },
  {
   "cell_type": "code",
   "execution_count": null,
   "id": "dcb77e1f",
   "metadata": {},
   "outputs": [],
   "source": [
    "bmart\n"
   ]
  },
  {
   "cell_type": "code",
   "execution_count": null,
   "id": "1f54fb6c",
   "metadata": {},
   "outputs": [],
   "source": [
    "bmart1 = bmart.copy()"
   ]
  },
  {
   "cell_type": "code",
   "execution_count": null,
   "id": "32ac9890",
   "metadata": {},
   "outputs": [],
   "source": [
    "bmart1"
   ]
  },
  {
   "cell_type": "code",
   "execution_count": null,
   "id": "9d6f183d",
   "metadata": {},
   "outputs": [],
   "source": [
    "bmart1.info()"
   ]
  },
  {
   "cell_type": "code",
   "execution_count": null,
   "id": "af3f9b12",
   "metadata": {},
   "outputs": [],
   "source": [
    "bmart1.head()"
   ]
  },
  {
   "cell_type": "code",
   "execution_count": null,
   "id": "89d9e769",
   "metadata": {},
   "outputs": [],
   "source": [
    "bmart1.info()"
   ]
  },
  {
   "cell_type": "code",
   "execution_count": null,
   "id": "4f9b3891",
   "metadata": {},
   "outputs": [],
   "source": [
    "bmart1.drop(\"Outlet_Establishment_Year_m\",axis=1,inplace=True)"
   ]
  },
  {
   "cell_type": "code",
   "execution_count": 160,
   "id": "577240dd",
   "metadata": {},
   "outputs": [
    {
     "name": "stdout",
     "output_type": "stream",
     "text": [
      "<class 'pandas.core.frame.DataFrame'>\n",
      "Int64Index: 14204 entries, 0 to 5680\n",
      "Data columns (total 12 columns):\n",
      " #   Column                     Non-Null Count  Dtype  \n",
      "---  ------                     --------------  -----  \n",
      " 0   Item_Identifier            14204 non-null  object \n",
      " 1   Item_Weight                11765 non-null  float64\n",
      " 2   Item_Fat_Content           14204 non-null  object \n",
      " 3   Item_Visibility            14204 non-null  float64\n",
      " 4   Item_Type                  14204 non-null  object \n",
      " 5   Item_MRP                   14204 non-null  float64\n",
      " 6   Outlet_Identifier          14204 non-null  object \n",
      " 7   Outlet_Establishment_Year  14204 non-null  int64  \n",
      " 8   Outlet_Size                10188 non-null  object \n",
      " 9   Outlet_Location_Type       14204 non-null  object \n",
      " 10  Outlet_Type                14204 non-null  object \n",
      " 11  Item_Outlet_Sales          8523 non-null   float64\n",
      "dtypes: float64(4), int64(1), object(7)\n",
      "memory usage: 1.4+ MB\n"
     ]
    }
   ],
   "source": [
    "bmart1.info()"
   ]
  },
  {
   "cell_type": "code",
   "execution_count": 161,
   "id": "9eab9783",
   "metadata": {},
   "outputs": [
    {
     "ename": "KeyError",
     "evalue": "\"['Item_Visibility_m'] not found in axis\"",
     "output_type": "error",
     "traceback": [
      "\u001b[1;31m---------------------------------------------------------------------------\u001b[0m",
      "\u001b[1;31mKeyError\u001b[0m                                  Traceback (most recent call last)",
      "\u001b[1;32mC:\\Users\\NISHAP~1\\AppData\\Local\\Temp/ipykernel_6256/1456335216.py\u001b[0m in \u001b[0;36m<module>\u001b[1;34m\u001b[0m\n\u001b[1;32m----> 1\u001b[1;33m \u001b[0mbmart1\u001b[0m\u001b[1;33m.\u001b[0m\u001b[0mdrop\u001b[0m\u001b[1;33m(\u001b[0m\u001b[1;34m\"Item_Visibility_m\"\u001b[0m\u001b[1;33m,\u001b[0m\u001b[0maxis\u001b[0m\u001b[1;33m=\u001b[0m\u001b[1;36m1\u001b[0m\u001b[1;33m,\u001b[0m\u001b[0minplace\u001b[0m\u001b[1;33m=\u001b[0m\u001b[1;32mTrue\u001b[0m\u001b[1;33m)\u001b[0m\u001b[1;33m\u001b[0m\u001b[1;33m\u001b[0m\u001b[0m\n\u001b[0m",
      "\u001b[1;32m~\\anaconda3\\lib\\site-packages\\pandas\\util\\_decorators.py\u001b[0m in \u001b[0;36mwrapper\u001b[1;34m(*args, **kwargs)\u001b[0m\n\u001b[0;32m    309\u001b[0m                     \u001b[0mstacklevel\u001b[0m\u001b[1;33m=\u001b[0m\u001b[0mstacklevel\u001b[0m\u001b[1;33m,\u001b[0m\u001b[1;33m\u001b[0m\u001b[1;33m\u001b[0m\u001b[0m\n\u001b[0;32m    310\u001b[0m                 )\n\u001b[1;32m--> 311\u001b[1;33m             \u001b[1;32mreturn\u001b[0m \u001b[0mfunc\u001b[0m\u001b[1;33m(\u001b[0m\u001b[1;33m*\u001b[0m\u001b[0margs\u001b[0m\u001b[1;33m,\u001b[0m \u001b[1;33m**\u001b[0m\u001b[0mkwargs\u001b[0m\u001b[1;33m)\u001b[0m\u001b[1;33m\u001b[0m\u001b[1;33m\u001b[0m\u001b[0m\n\u001b[0m\u001b[0;32m    312\u001b[0m \u001b[1;33m\u001b[0m\u001b[0m\n\u001b[0;32m    313\u001b[0m         \u001b[1;32mreturn\u001b[0m \u001b[0mwrapper\u001b[0m\u001b[1;33m\u001b[0m\u001b[1;33m\u001b[0m\u001b[0m\n",
      "\u001b[1;32m~\\anaconda3\\lib\\site-packages\\pandas\\core\\frame.py\u001b[0m in \u001b[0;36mdrop\u001b[1;34m(self, labels, axis, index, columns, level, inplace, errors)\u001b[0m\n\u001b[0;32m   4904\u001b[0m                 \u001b[0mweight\u001b[0m  \u001b[1;36m1.0\u001b[0m     \u001b[1;36m0.8\u001b[0m\u001b[1;33m\u001b[0m\u001b[1;33m\u001b[0m\u001b[0m\n\u001b[0;32m   4905\u001b[0m         \"\"\"\n\u001b[1;32m-> 4906\u001b[1;33m         return super().drop(\n\u001b[0m\u001b[0;32m   4907\u001b[0m             \u001b[0mlabels\u001b[0m\u001b[1;33m=\u001b[0m\u001b[0mlabels\u001b[0m\u001b[1;33m,\u001b[0m\u001b[1;33m\u001b[0m\u001b[1;33m\u001b[0m\u001b[0m\n\u001b[0;32m   4908\u001b[0m             \u001b[0maxis\u001b[0m\u001b[1;33m=\u001b[0m\u001b[0maxis\u001b[0m\u001b[1;33m,\u001b[0m\u001b[1;33m\u001b[0m\u001b[1;33m\u001b[0m\u001b[0m\n",
      "\u001b[1;32m~\\anaconda3\\lib\\site-packages\\pandas\\core\\generic.py\u001b[0m in \u001b[0;36mdrop\u001b[1;34m(self, labels, axis, index, columns, level, inplace, errors)\u001b[0m\n\u001b[0;32m   4148\u001b[0m         \u001b[1;32mfor\u001b[0m \u001b[0maxis\u001b[0m\u001b[1;33m,\u001b[0m \u001b[0mlabels\u001b[0m \u001b[1;32min\u001b[0m \u001b[0maxes\u001b[0m\u001b[1;33m.\u001b[0m\u001b[0mitems\u001b[0m\u001b[1;33m(\u001b[0m\u001b[1;33m)\u001b[0m\u001b[1;33m:\u001b[0m\u001b[1;33m\u001b[0m\u001b[1;33m\u001b[0m\u001b[0m\n\u001b[0;32m   4149\u001b[0m             \u001b[1;32mif\u001b[0m \u001b[0mlabels\u001b[0m \u001b[1;32mis\u001b[0m \u001b[1;32mnot\u001b[0m \u001b[1;32mNone\u001b[0m\u001b[1;33m:\u001b[0m\u001b[1;33m\u001b[0m\u001b[1;33m\u001b[0m\u001b[0m\n\u001b[1;32m-> 4150\u001b[1;33m                 \u001b[0mobj\u001b[0m \u001b[1;33m=\u001b[0m \u001b[0mobj\u001b[0m\u001b[1;33m.\u001b[0m\u001b[0m_drop_axis\u001b[0m\u001b[1;33m(\u001b[0m\u001b[0mlabels\u001b[0m\u001b[1;33m,\u001b[0m \u001b[0maxis\u001b[0m\u001b[1;33m,\u001b[0m \u001b[0mlevel\u001b[0m\u001b[1;33m=\u001b[0m\u001b[0mlevel\u001b[0m\u001b[1;33m,\u001b[0m \u001b[0merrors\u001b[0m\u001b[1;33m=\u001b[0m\u001b[0merrors\u001b[0m\u001b[1;33m)\u001b[0m\u001b[1;33m\u001b[0m\u001b[1;33m\u001b[0m\u001b[0m\n\u001b[0m\u001b[0;32m   4151\u001b[0m \u001b[1;33m\u001b[0m\u001b[0m\n\u001b[0;32m   4152\u001b[0m         \u001b[1;32mif\u001b[0m \u001b[0minplace\u001b[0m\u001b[1;33m:\u001b[0m\u001b[1;33m\u001b[0m\u001b[1;33m\u001b[0m\u001b[0m\n",
      "\u001b[1;32m~\\anaconda3\\lib\\site-packages\\pandas\\core\\generic.py\u001b[0m in \u001b[0;36m_drop_axis\u001b[1;34m(self, labels, axis, level, errors)\u001b[0m\n\u001b[0;32m   4183\u001b[0m                 \u001b[0mnew_axis\u001b[0m \u001b[1;33m=\u001b[0m \u001b[0maxis\u001b[0m\u001b[1;33m.\u001b[0m\u001b[0mdrop\u001b[0m\u001b[1;33m(\u001b[0m\u001b[0mlabels\u001b[0m\u001b[1;33m,\u001b[0m \u001b[0mlevel\u001b[0m\u001b[1;33m=\u001b[0m\u001b[0mlevel\u001b[0m\u001b[1;33m,\u001b[0m \u001b[0merrors\u001b[0m\u001b[1;33m=\u001b[0m\u001b[0merrors\u001b[0m\u001b[1;33m)\u001b[0m\u001b[1;33m\u001b[0m\u001b[1;33m\u001b[0m\u001b[0m\n\u001b[0;32m   4184\u001b[0m             \u001b[1;32melse\u001b[0m\u001b[1;33m:\u001b[0m\u001b[1;33m\u001b[0m\u001b[1;33m\u001b[0m\u001b[0m\n\u001b[1;32m-> 4185\u001b[1;33m                 \u001b[0mnew_axis\u001b[0m \u001b[1;33m=\u001b[0m \u001b[0maxis\u001b[0m\u001b[1;33m.\u001b[0m\u001b[0mdrop\u001b[0m\u001b[1;33m(\u001b[0m\u001b[0mlabels\u001b[0m\u001b[1;33m,\u001b[0m \u001b[0merrors\u001b[0m\u001b[1;33m=\u001b[0m\u001b[0merrors\u001b[0m\u001b[1;33m)\u001b[0m\u001b[1;33m\u001b[0m\u001b[1;33m\u001b[0m\u001b[0m\n\u001b[0m\u001b[0;32m   4186\u001b[0m             \u001b[0mresult\u001b[0m \u001b[1;33m=\u001b[0m \u001b[0mself\u001b[0m\u001b[1;33m.\u001b[0m\u001b[0mreindex\u001b[0m\u001b[1;33m(\u001b[0m\u001b[1;33m**\u001b[0m\u001b[1;33m{\u001b[0m\u001b[0maxis_name\u001b[0m\u001b[1;33m:\u001b[0m \u001b[0mnew_axis\u001b[0m\u001b[1;33m}\u001b[0m\u001b[1;33m)\u001b[0m\u001b[1;33m\u001b[0m\u001b[1;33m\u001b[0m\u001b[0m\n\u001b[0;32m   4187\u001b[0m \u001b[1;33m\u001b[0m\u001b[0m\n",
      "\u001b[1;32m~\\anaconda3\\lib\\site-packages\\pandas\\core\\indexes\\base.py\u001b[0m in \u001b[0;36mdrop\u001b[1;34m(self, labels, errors)\u001b[0m\n\u001b[0;32m   6015\u001b[0m         \u001b[1;32mif\u001b[0m \u001b[0mmask\u001b[0m\u001b[1;33m.\u001b[0m\u001b[0many\u001b[0m\u001b[1;33m(\u001b[0m\u001b[1;33m)\u001b[0m\u001b[1;33m:\u001b[0m\u001b[1;33m\u001b[0m\u001b[1;33m\u001b[0m\u001b[0m\n\u001b[0;32m   6016\u001b[0m             \u001b[1;32mif\u001b[0m \u001b[0merrors\u001b[0m \u001b[1;33m!=\u001b[0m \u001b[1;34m\"ignore\"\u001b[0m\u001b[1;33m:\u001b[0m\u001b[1;33m\u001b[0m\u001b[1;33m\u001b[0m\u001b[0m\n\u001b[1;32m-> 6017\u001b[1;33m                 \u001b[1;32mraise\u001b[0m \u001b[0mKeyError\u001b[0m\u001b[1;33m(\u001b[0m\u001b[1;34mf\"{labels[mask]} not found in axis\"\u001b[0m\u001b[1;33m)\u001b[0m\u001b[1;33m\u001b[0m\u001b[1;33m\u001b[0m\u001b[0m\n\u001b[0m\u001b[0;32m   6018\u001b[0m             \u001b[0mindexer\u001b[0m \u001b[1;33m=\u001b[0m \u001b[0mindexer\u001b[0m\u001b[1;33m[\u001b[0m\u001b[1;33m~\u001b[0m\u001b[0mmask\u001b[0m\u001b[1;33m]\u001b[0m\u001b[1;33m\u001b[0m\u001b[1;33m\u001b[0m\u001b[0m\n\u001b[0;32m   6019\u001b[0m         \u001b[1;32mreturn\u001b[0m \u001b[0mself\u001b[0m\u001b[1;33m.\u001b[0m\u001b[0mdelete\u001b[0m\u001b[1;33m(\u001b[0m\u001b[0mindexer\u001b[0m\u001b[1;33m)\u001b[0m\u001b[1;33m\u001b[0m\u001b[1;33m\u001b[0m\u001b[0m\n",
      "\u001b[1;31mKeyError\u001b[0m: \"['Item_Visibility_m'] not found in axis\""
     ]
    }
   ],
   "source": [
    "bmart1.drop(\"Item_Visibility_m\",axis=1,inplace=True)"
   ]
  },
  {
   "cell_type": "code",
   "execution_count": 162,
   "id": "38747f72",
   "metadata": {},
   "outputs": [
    {
     "name": "stdout",
     "output_type": "stream",
     "text": [
      "<class 'pandas.core.frame.DataFrame'>\n",
      "Int64Index: 14204 entries, 0 to 5680\n",
      "Data columns (total 12 columns):\n",
      " #   Column                     Non-Null Count  Dtype  \n",
      "---  ------                     --------------  -----  \n",
      " 0   Item_Identifier            14204 non-null  object \n",
      " 1   Item_Weight                11765 non-null  float64\n",
      " 2   Item_Fat_Content           14204 non-null  object \n",
      " 3   Item_Visibility            14204 non-null  float64\n",
      " 4   Item_Type                  14204 non-null  object \n",
      " 5   Item_MRP                   14204 non-null  float64\n",
      " 6   Outlet_Identifier          14204 non-null  object \n",
      " 7   Outlet_Establishment_Year  14204 non-null  int64  \n",
      " 8   Outlet_Size                10188 non-null  object \n",
      " 9   Outlet_Location_Type       14204 non-null  object \n",
      " 10  Outlet_Type                14204 non-null  object \n",
      " 11  Item_Outlet_Sales          8523 non-null   float64\n",
      "dtypes: float64(4), int64(1), object(7)\n",
      "memory usage: 1.4+ MB\n"
     ]
    }
   ],
   "source": [
    "bmart1.info()"
   ]
  },
  {
   "cell_type": "code",
   "execution_count": null,
   "id": "6ca1e1c8",
   "metadata": {},
   "outputs": [],
   "source": [
    "bmart.isnull().sum()"
   ]
  },
  {
   "cell_type": "code",
   "execution_count": 163,
   "id": "b70c287f",
   "metadata": {},
   "outputs": [
    {
     "data": {
      "text/plain": [
       "Medium    4655\n",
       "Small     3980\n",
       "High      1553\n",
       "Name: Outlet_Size, dtype: int64"
      ]
     },
     "execution_count": 163,
     "metadata": {},
     "output_type": "execute_result"
    }
   ],
   "source": [
    "bmart1.Outlet_Size.value_counts()"
   ]
  },
  {
   "cell_type": "code",
   "execution_count": 164,
   "id": "493703b5",
   "metadata": {},
   "outputs": [],
   "source": [
    "bmart1.Outlet_Size.fillna(\"Small\",inplace=True)\n"
   ]
  },
  {
   "cell_type": "code",
   "execution_count": 165,
   "id": "c7e46e31",
   "metadata": {},
   "outputs": [
    {
     "name": "stdout",
     "output_type": "stream",
     "text": [
      "<class 'pandas.core.frame.DataFrame'>\n",
      "Int64Index: 14204 entries, 0 to 5680\n",
      "Data columns (total 12 columns):\n",
      " #   Column                     Non-Null Count  Dtype  \n",
      "---  ------                     --------------  -----  \n",
      " 0   Item_Identifier            14204 non-null  object \n",
      " 1   Item_Weight                11765 non-null  float64\n",
      " 2   Item_Fat_Content           14204 non-null  object \n",
      " 3   Item_Visibility            14204 non-null  float64\n",
      " 4   Item_Type                  14204 non-null  object \n",
      " 5   Item_MRP                   14204 non-null  float64\n",
      " 6   Outlet_Identifier          14204 non-null  object \n",
      " 7   Outlet_Establishment_Year  14204 non-null  int64  \n",
      " 8   Outlet_Size                14204 non-null  object \n",
      " 9   Outlet_Location_Type       14204 non-null  object \n",
      " 10  Outlet_Type                14204 non-null  object \n",
      " 11  Item_Outlet_Sales          8523 non-null   float64\n",
      "dtypes: float64(4), int64(1), object(7)\n",
      "memory usage: 1.4+ MB\n"
     ]
    }
   ],
   "source": [
    "bmart1.info()"
   ]
  },
  {
   "cell_type": "code",
   "execution_count": 166,
   "id": "1a05db49",
   "metadata": {},
   "outputs": [],
   "source": [
    "bmart1=pd.get_dummies(bmart1,drop_first=True)"
   ]
  },
  {
   "cell_type": "code",
   "execution_count": 167,
   "id": "5eb439b5",
   "metadata": {},
   "outputs": [
    {
     "name": "stdout",
     "output_type": "stream",
     "text": [
      "<class 'pandas.core.frame.DataFrame'>\n",
      "Int64Index: 14204 entries, 0 to 5680\n",
      "Columns: 1598 entries, Item_Weight to Outlet_Type_Supermarket Type3\n",
      "dtypes: float64(4), int64(1), uint8(1593)\n",
      "memory usage: 22.2 MB\n"
     ]
    }
   ],
   "source": [
    "bmart1.info()"
   ]
  },
  {
   "cell_type": "code",
   "execution_count": 168,
   "id": "bbce4b66",
   "metadata": {},
   "outputs": [
    {
     "data": {
      "text/html": [
       "<div>\n",
       "<style scoped>\n",
       "    .dataframe tbody tr th:only-of-type {\n",
       "        vertical-align: middle;\n",
       "    }\n",
       "\n",
       "    .dataframe tbody tr th {\n",
       "        vertical-align: top;\n",
       "    }\n",
       "\n",
       "    .dataframe thead th {\n",
       "        text-align: right;\n",
       "    }\n",
       "</style>\n",
       "<table border=\"1\" class=\"dataframe\">\n",
       "  <thead>\n",
       "    <tr style=\"text-align: right;\">\n",
       "      <th></th>\n",
       "      <th>Item_Weight</th>\n",
       "      <th>Item_Visibility</th>\n",
       "      <th>Item_MRP</th>\n",
       "      <th>Outlet_Establishment_Year</th>\n",
       "      <th>Item_Outlet_Sales</th>\n",
       "      <th>Item_Identifier_DRA24</th>\n",
       "      <th>Item_Identifier_DRA59</th>\n",
       "      <th>Item_Identifier_DRB01</th>\n",
       "      <th>Item_Identifier_DRB13</th>\n",
       "      <th>Item_Identifier_DRB24</th>\n",
       "      <th>...</th>\n",
       "      <th>Outlet_Identifier_OUT045</th>\n",
       "      <th>Outlet_Identifier_OUT046</th>\n",
       "      <th>Outlet_Identifier_OUT049</th>\n",
       "      <th>Outlet_Size_Medium</th>\n",
       "      <th>Outlet_Size_Small</th>\n",
       "      <th>Outlet_Location_Type_Tier 2</th>\n",
       "      <th>Outlet_Location_Type_Tier 3</th>\n",
       "      <th>Outlet_Type_Supermarket Type1</th>\n",
       "      <th>Outlet_Type_Supermarket Type2</th>\n",
       "      <th>Outlet_Type_Supermarket Type3</th>\n",
       "    </tr>\n",
       "  </thead>\n",
       "  <tbody>\n",
       "    <tr>\n",
       "      <th>0</th>\n",
       "      <td>9.30</td>\n",
       "      <td>0.016047</td>\n",
       "      <td>249.8092</td>\n",
       "      <td>1999</td>\n",
       "      <td>3735.1380</td>\n",
       "      <td>0</td>\n",
       "      <td>0</td>\n",
       "      <td>0</td>\n",
       "      <td>0</td>\n",
       "      <td>0</td>\n",
       "      <td>...</td>\n",
       "      <td>0</td>\n",
       "      <td>0</td>\n",
       "      <td>1</td>\n",
       "      <td>1</td>\n",
       "      <td>0</td>\n",
       "      <td>0</td>\n",
       "      <td>0</td>\n",
       "      <td>1</td>\n",
       "      <td>0</td>\n",
       "      <td>0</td>\n",
       "    </tr>\n",
       "    <tr>\n",
       "      <th>1</th>\n",
       "      <td>5.92</td>\n",
       "      <td>0.019278</td>\n",
       "      <td>48.2692</td>\n",
       "      <td>2009</td>\n",
       "      <td>443.4228</td>\n",
       "      <td>0</td>\n",
       "      <td>0</td>\n",
       "      <td>0</td>\n",
       "      <td>0</td>\n",
       "      <td>0</td>\n",
       "      <td>...</td>\n",
       "      <td>0</td>\n",
       "      <td>0</td>\n",
       "      <td>0</td>\n",
       "      <td>1</td>\n",
       "      <td>0</td>\n",
       "      <td>0</td>\n",
       "      <td>1</td>\n",
       "      <td>0</td>\n",
       "      <td>1</td>\n",
       "      <td>0</td>\n",
       "    </tr>\n",
       "    <tr>\n",
       "      <th>2</th>\n",
       "      <td>17.50</td>\n",
       "      <td>0.016760</td>\n",
       "      <td>141.6180</td>\n",
       "      <td>1999</td>\n",
       "      <td>2097.2700</td>\n",
       "      <td>0</td>\n",
       "      <td>0</td>\n",
       "      <td>0</td>\n",
       "      <td>0</td>\n",
       "      <td>0</td>\n",
       "      <td>...</td>\n",
       "      <td>0</td>\n",
       "      <td>0</td>\n",
       "      <td>1</td>\n",
       "      <td>1</td>\n",
       "      <td>0</td>\n",
       "      <td>0</td>\n",
       "      <td>0</td>\n",
       "      <td>1</td>\n",
       "      <td>0</td>\n",
       "      <td>0</td>\n",
       "    </tr>\n",
       "    <tr>\n",
       "      <th>3</th>\n",
       "      <td>19.20</td>\n",
       "      <td>0.000000</td>\n",
       "      <td>182.0950</td>\n",
       "      <td>1998</td>\n",
       "      <td>732.3800</td>\n",
       "      <td>0</td>\n",
       "      <td>0</td>\n",
       "      <td>0</td>\n",
       "      <td>0</td>\n",
       "      <td>0</td>\n",
       "      <td>...</td>\n",
       "      <td>0</td>\n",
       "      <td>0</td>\n",
       "      <td>0</td>\n",
       "      <td>0</td>\n",
       "      <td>1</td>\n",
       "      <td>0</td>\n",
       "      <td>1</td>\n",
       "      <td>0</td>\n",
       "      <td>0</td>\n",
       "      <td>0</td>\n",
       "    </tr>\n",
       "    <tr>\n",
       "      <th>4</th>\n",
       "      <td>8.93</td>\n",
       "      <td>0.000000</td>\n",
       "      <td>53.8614</td>\n",
       "      <td>1987</td>\n",
       "      <td>994.7052</td>\n",
       "      <td>0</td>\n",
       "      <td>0</td>\n",
       "      <td>0</td>\n",
       "      <td>0</td>\n",
       "      <td>0</td>\n",
       "      <td>...</td>\n",
       "      <td>0</td>\n",
       "      <td>0</td>\n",
       "      <td>0</td>\n",
       "      <td>0</td>\n",
       "      <td>0</td>\n",
       "      <td>0</td>\n",
       "      <td>1</td>\n",
       "      <td>1</td>\n",
       "      <td>0</td>\n",
       "      <td>0</td>\n",
       "    </tr>\n",
       "  </tbody>\n",
       "</table>\n",
       "<p>5 rows × 1598 columns</p>\n",
       "</div>"
      ],
      "text/plain": [
       "   Item_Weight  Item_Visibility  Item_MRP  Outlet_Establishment_Year  \\\n",
       "0         9.30         0.016047  249.8092                       1999   \n",
       "1         5.92         0.019278   48.2692                       2009   \n",
       "2        17.50         0.016760  141.6180                       1999   \n",
       "3        19.20         0.000000  182.0950                       1998   \n",
       "4         8.93         0.000000   53.8614                       1987   \n",
       "\n",
       "   Item_Outlet_Sales  Item_Identifier_DRA24  Item_Identifier_DRA59  \\\n",
       "0          3735.1380                      0                      0   \n",
       "1           443.4228                      0                      0   \n",
       "2          2097.2700                      0                      0   \n",
       "3           732.3800                      0                      0   \n",
       "4           994.7052                      0                      0   \n",
       "\n",
       "   Item_Identifier_DRB01  Item_Identifier_DRB13  Item_Identifier_DRB24  ...  \\\n",
       "0                      0                      0                      0  ...   \n",
       "1                      0                      0                      0  ...   \n",
       "2                      0                      0                      0  ...   \n",
       "3                      0                      0                      0  ...   \n",
       "4                      0                      0                      0  ...   \n",
       "\n",
       "   Outlet_Identifier_OUT045  Outlet_Identifier_OUT046  \\\n",
       "0                         0                         0   \n",
       "1                         0                         0   \n",
       "2                         0                         0   \n",
       "3                         0                         0   \n",
       "4                         0                         0   \n",
       "\n",
       "   Outlet_Identifier_OUT049  Outlet_Size_Medium  Outlet_Size_Small  \\\n",
       "0                         1                   1                  0   \n",
       "1                         0                   1                  0   \n",
       "2                         1                   1                  0   \n",
       "3                         0                   0                  1   \n",
       "4                         0                   0                  0   \n",
       "\n",
       "   Outlet_Location_Type_Tier 2  Outlet_Location_Type_Tier 3  \\\n",
       "0                            0                            0   \n",
       "1                            0                            1   \n",
       "2                            0                            0   \n",
       "3                            0                            1   \n",
       "4                            0                            1   \n",
       "\n",
       "   Outlet_Type_Supermarket Type1  Outlet_Type_Supermarket Type2  \\\n",
       "0                              1                              0   \n",
       "1                              0                              1   \n",
       "2                              1                              0   \n",
       "3                              0                              0   \n",
       "4                              1                              0   \n",
       "\n",
       "   Outlet_Type_Supermarket Type3  \n",
       "0                              0  \n",
       "1                              0  \n",
       "2                              0  \n",
       "3                              0  \n",
       "4                              0  \n",
       "\n",
       "[5 rows x 1598 columns]"
      ]
     },
     "execution_count": 168,
     "metadata": {},
     "output_type": "execute_result"
    }
   ],
   "source": [
    "bmart1.head()"
   ]
  },
  {
   "cell_type": "code",
   "execution_count": 169,
   "id": "175dbd64",
   "metadata": {},
   "outputs": [],
   "source": [
    "test_c1=bmart1[bmart1[\"Item_Outlet_Sales\"].isnull()]\n",
    "train_cl=bmart1[bmart1[\"Item_Outlet_Sales\"].notnull()]"
   ]
  },
  {
   "cell_type": "code",
   "execution_count": 170,
   "id": "fff5a32d",
   "metadata": {},
   "outputs": [
    {
     "data": {
      "text/plain": [
       "(8523, 1598)"
      ]
     },
     "execution_count": 170,
     "metadata": {},
     "output_type": "execute_result"
    }
   ],
   "source": [
    "train_cl.shape"
   ]
  },
  {
   "cell_type": "code",
   "execution_count": 171,
   "id": "69973ae7",
   "metadata": {},
   "outputs": [
    {
     "data": {
      "text/plain": [
       "(8523, 1598)"
      ]
     },
     "execution_count": 171,
     "metadata": {},
     "output_type": "execute_result"
    }
   ],
   "source": [
    "train_cl.shape"
   ]
  },
  {
   "cell_type": "code",
   "execution_count": 172,
   "id": "23cba221",
   "metadata": {},
   "outputs": [
    {
     "data": {
      "text/plain": [
       "(5681, 1598)"
      ]
     },
     "execution_count": 172,
     "metadata": {},
     "output_type": "execute_result"
    }
   ],
   "source": [
    "test_c1.shape"
   ]
  },
  {
   "cell_type": "code",
   "execution_count": 173,
   "id": "58877218",
   "metadata": {},
   "outputs": [
    {
     "name": "stderr",
     "output_type": "stream",
     "text": [
      "C:\\Users\\nisha pujari\\anaconda3\\lib\\site-packages\\pandas\\core\\frame.py:4906: SettingWithCopyWarning: \n",
      "A value is trying to be set on a copy of a slice from a DataFrame\n",
      "\n",
      "See the caveats in the documentation: https://pandas.pydata.org/pandas-docs/stable/user_guide/indexing.html#returning-a-view-versus-a-copy\n",
      "  return super().drop(\n"
     ]
    }
   ],
   "source": [
    "test_c1.drop(\"Item_Outlet_Sales\",axis=1,inplace=True)\n"
   ]
  },
  {
   "cell_type": "code",
   "execution_count": 174,
   "id": "98864884",
   "metadata": {},
   "outputs": [
    {
     "data": {
      "text/plain": [
       "(5681, 1597)"
      ]
     },
     "execution_count": 174,
     "metadata": {},
     "output_type": "execute_result"
    }
   ],
   "source": [
    "test_c1.shape"
   ]
  },
  {
   "cell_type": "code",
   "execution_count": 175,
   "id": "10c259b7",
   "metadata": {},
   "outputs": [],
   "source": [
    "train_y=train_cl[\"Item_Outlet_Sales\"]\n",
    "train_x=train_cl.drop(\"Item_Outlet_Sales\",axis=1)"
   ]
  },
  {
   "cell_type": "markdown",
   "id": "d6a79bc2",
   "metadata": {},
   "source": [
    "###Model  Building ###"
   ]
  },
  {
   "cell_type": "code",
   "execution_count": 176,
   "id": "d53e7f96",
   "metadata": {},
   "outputs": [],
   "source": [
    "from sklearn.linear_model import LinearRegression"
   ]
  },
  {
   "cell_type": "code",
   "execution_count": 177,
   "id": "9a1dcf50",
   "metadata": {},
   "outputs": [],
   "source": [
    "LR=LinearRegression()"
   ]
  },
  {
   "cell_type": "code",
   "execution_count": 182,
   "id": "7ec6b7b2",
   "metadata": {},
   "outputs": [
    {
     "ename": "ValueError",
     "evalue": "Input contains NaN, infinity or a value too large for dtype('float64').",
     "output_type": "error",
     "traceback": [
      "\u001b[1;31m---------------------------------------------------------------------------\u001b[0m",
      "\u001b[1;31mValueError\u001b[0m                                Traceback (most recent call last)",
      "\u001b[1;32mC:\\Users\\NISHAP~1\\AppData\\Local\\Temp/ipykernel_6256/2137688293.py\u001b[0m in \u001b[0;36m<module>\u001b[1;34m\u001b[0m\n\u001b[1;32m----> 1\u001b[1;33m \u001b[0mLR\u001b[0m\u001b[1;33m.\u001b[0m\u001b[0mfit\u001b[0m\u001b[1;33m(\u001b[0m\u001b[0mtrain_x\u001b[0m\u001b[1;33m,\u001b[0m\u001b[0mtrain_y\u001b[0m\u001b[1;33m)\u001b[0m\u001b[1;33m\u001b[0m\u001b[1;33m\u001b[0m\u001b[0m\n\u001b[0m",
      "\u001b[1;32m~\\anaconda3\\lib\\site-packages\\sklearn\\linear_model\\_base.py\u001b[0m in \u001b[0;36mfit\u001b[1;34m(self, X, y, sample_weight)\u001b[0m\n\u001b[0;32m    516\u001b[0m         \u001b[0maccept_sparse\u001b[0m \u001b[1;33m=\u001b[0m \u001b[1;32mFalse\u001b[0m \u001b[1;32mif\u001b[0m \u001b[0mself\u001b[0m\u001b[1;33m.\u001b[0m\u001b[0mpositive\u001b[0m \u001b[1;32melse\u001b[0m \u001b[1;33m[\u001b[0m\u001b[1;34m'csr'\u001b[0m\u001b[1;33m,\u001b[0m \u001b[1;34m'csc'\u001b[0m\u001b[1;33m,\u001b[0m \u001b[1;34m'coo'\u001b[0m\u001b[1;33m]\u001b[0m\u001b[1;33m\u001b[0m\u001b[1;33m\u001b[0m\u001b[0m\n\u001b[0;32m    517\u001b[0m \u001b[1;33m\u001b[0m\u001b[0m\n\u001b[1;32m--> 518\u001b[1;33m         X, y = self._validate_data(X, y, accept_sparse=accept_sparse,\n\u001b[0m\u001b[0;32m    519\u001b[0m                                    y_numeric=True, multi_output=True)\n\u001b[0;32m    520\u001b[0m \u001b[1;33m\u001b[0m\u001b[0m\n",
      "\u001b[1;32m~\\anaconda3\\lib\\site-packages\\sklearn\\base.py\u001b[0m in \u001b[0;36m_validate_data\u001b[1;34m(self, X, y, reset, validate_separately, **check_params)\u001b[0m\n\u001b[0;32m    431\u001b[0m                 \u001b[0my\u001b[0m \u001b[1;33m=\u001b[0m \u001b[0mcheck_array\u001b[0m\u001b[1;33m(\u001b[0m\u001b[0my\u001b[0m\u001b[1;33m,\u001b[0m \u001b[1;33m**\u001b[0m\u001b[0mcheck_y_params\u001b[0m\u001b[1;33m)\u001b[0m\u001b[1;33m\u001b[0m\u001b[1;33m\u001b[0m\u001b[0m\n\u001b[0;32m    432\u001b[0m             \u001b[1;32melse\u001b[0m\u001b[1;33m:\u001b[0m\u001b[1;33m\u001b[0m\u001b[1;33m\u001b[0m\u001b[0m\n\u001b[1;32m--> 433\u001b[1;33m                 \u001b[0mX\u001b[0m\u001b[1;33m,\u001b[0m \u001b[0my\u001b[0m \u001b[1;33m=\u001b[0m \u001b[0mcheck_X_y\u001b[0m\u001b[1;33m(\u001b[0m\u001b[0mX\u001b[0m\u001b[1;33m,\u001b[0m \u001b[0my\u001b[0m\u001b[1;33m,\u001b[0m \u001b[1;33m**\u001b[0m\u001b[0mcheck_params\u001b[0m\u001b[1;33m)\u001b[0m\u001b[1;33m\u001b[0m\u001b[1;33m\u001b[0m\u001b[0m\n\u001b[0m\u001b[0;32m    434\u001b[0m             \u001b[0mout\u001b[0m \u001b[1;33m=\u001b[0m \u001b[0mX\u001b[0m\u001b[1;33m,\u001b[0m \u001b[0my\u001b[0m\u001b[1;33m\u001b[0m\u001b[1;33m\u001b[0m\u001b[0m\n\u001b[0;32m    435\u001b[0m \u001b[1;33m\u001b[0m\u001b[0m\n",
      "\u001b[1;32m~\\anaconda3\\lib\\site-packages\\sklearn\\utils\\validation.py\u001b[0m in \u001b[0;36minner_f\u001b[1;34m(*args, **kwargs)\u001b[0m\n\u001b[0;32m     61\u001b[0m             \u001b[0mextra_args\u001b[0m \u001b[1;33m=\u001b[0m \u001b[0mlen\u001b[0m\u001b[1;33m(\u001b[0m\u001b[0margs\u001b[0m\u001b[1;33m)\u001b[0m \u001b[1;33m-\u001b[0m \u001b[0mlen\u001b[0m\u001b[1;33m(\u001b[0m\u001b[0mall_args\u001b[0m\u001b[1;33m)\u001b[0m\u001b[1;33m\u001b[0m\u001b[1;33m\u001b[0m\u001b[0m\n\u001b[0;32m     62\u001b[0m             \u001b[1;32mif\u001b[0m \u001b[0mextra_args\u001b[0m \u001b[1;33m<=\u001b[0m \u001b[1;36m0\u001b[0m\u001b[1;33m:\u001b[0m\u001b[1;33m\u001b[0m\u001b[1;33m\u001b[0m\u001b[0m\n\u001b[1;32m---> 63\u001b[1;33m                 \u001b[1;32mreturn\u001b[0m \u001b[0mf\u001b[0m\u001b[1;33m(\u001b[0m\u001b[1;33m*\u001b[0m\u001b[0margs\u001b[0m\u001b[1;33m,\u001b[0m \u001b[1;33m**\u001b[0m\u001b[0mkwargs\u001b[0m\u001b[1;33m)\u001b[0m\u001b[1;33m\u001b[0m\u001b[1;33m\u001b[0m\u001b[0m\n\u001b[0m\u001b[0;32m     64\u001b[0m \u001b[1;33m\u001b[0m\u001b[0m\n\u001b[0;32m     65\u001b[0m             \u001b[1;31m# extra_args > 0\u001b[0m\u001b[1;33m\u001b[0m\u001b[1;33m\u001b[0m\u001b[0m\n",
      "\u001b[1;32m~\\anaconda3\\lib\\site-packages\\sklearn\\utils\\validation.py\u001b[0m in \u001b[0;36mcheck_X_y\u001b[1;34m(X, y, accept_sparse, accept_large_sparse, dtype, order, copy, force_all_finite, ensure_2d, allow_nd, multi_output, ensure_min_samples, ensure_min_features, y_numeric, estimator)\u001b[0m\n\u001b[0;32m    869\u001b[0m         \u001b[1;32mraise\u001b[0m \u001b[0mValueError\u001b[0m\u001b[1;33m(\u001b[0m\u001b[1;34m\"y cannot be None\"\u001b[0m\u001b[1;33m)\u001b[0m\u001b[1;33m\u001b[0m\u001b[1;33m\u001b[0m\u001b[0m\n\u001b[0;32m    870\u001b[0m \u001b[1;33m\u001b[0m\u001b[0m\n\u001b[1;32m--> 871\u001b[1;33m     X = check_array(X, accept_sparse=accept_sparse,\n\u001b[0m\u001b[0;32m    872\u001b[0m                     \u001b[0maccept_large_sparse\u001b[0m\u001b[1;33m=\u001b[0m\u001b[0maccept_large_sparse\u001b[0m\u001b[1;33m,\u001b[0m\u001b[1;33m\u001b[0m\u001b[1;33m\u001b[0m\u001b[0m\n\u001b[0;32m    873\u001b[0m                     \u001b[0mdtype\u001b[0m\u001b[1;33m=\u001b[0m\u001b[0mdtype\u001b[0m\u001b[1;33m,\u001b[0m \u001b[0morder\u001b[0m\u001b[1;33m=\u001b[0m\u001b[0morder\u001b[0m\u001b[1;33m,\u001b[0m \u001b[0mcopy\u001b[0m\u001b[1;33m=\u001b[0m\u001b[0mcopy\u001b[0m\u001b[1;33m,\u001b[0m\u001b[1;33m\u001b[0m\u001b[1;33m\u001b[0m\u001b[0m\n",
      "\u001b[1;32m~\\anaconda3\\lib\\site-packages\\sklearn\\utils\\validation.py\u001b[0m in \u001b[0;36minner_f\u001b[1;34m(*args, **kwargs)\u001b[0m\n\u001b[0;32m     61\u001b[0m             \u001b[0mextra_args\u001b[0m \u001b[1;33m=\u001b[0m \u001b[0mlen\u001b[0m\u001b[1;33m(\u001b[0m\u001b[0margs\u001b[0m\u001b[1;33m)\u001b[0m \u001b[1;33m-\u001b[0m \u001b[0mlen\u001b[0m\u001b[1;33m(\u001b[0m\u001b[0mall_args\u001b[0m\u001b[1;33m)\u001b[0m\u001b[1;33m\u001b[0m\u001b[1;33m\u001b[0m\u001b[0m\n\u001b[0;32m     62\u001b[0m             \u001b[1;32mif\u001b[0m \u001b[0mextra_args\u001b[0m \u001b[1;33m<=\u001b[0m \u001b[1;36m0\u001b[0m\u001b[1;33m:\u001b[0m\u001b[1;33m\u001b[0m\u001b[1;33m\u001b[0m\u001b[0m\n\u001b[1;32m---> 63\u001b[1;33m                 \u001b[1;32mreturn\u001b[0m \u001b[0mf\u001b[0m\u001b[1;33m(\u001b[0m\u001b[1;33m*\u001b[0m\u001b[0margs\u001b[0m\u001b[1;33m,\u001b[0m \u001b[1;33m**\u001b[0m\u001b[0mkwargs\u001b[0m\u001b[1;33m)\u001b[0m\u001b[1;33m\u001b[0m\u001b[1;33m\u001b[0m\u001b[0m\n\u001b[0m\u001b[0;32m     64\u001b[0m \u001b[1;33m\u001b[0m\u001b[0m\n\u001b[0;32m     65\u001b[0m             \u001b[1;31m# extra_args > 0\u001b[0m\u001b[1;33m\u001b[0m\u001b[1;33m\u001b[0m\u001b[0m\n",
      "\u001b[1;32m~\\anaconda3\\lib\\site-packages\\sklearn\\utils\\validation.py\u001b[0m in \u001b[0;36mcheck_array\u001b[1;34m(array, accept_sparse, accept_large_sparse, dtype, order, copy, force_all_finite, ensure_2d, allow_nd, ensure_min_samples, ensure_min_features, estimator)\u001b[0m\n\u001b[0;32m    718\u001b[0m \u001b[1;33m\u001b[0m\u001b[0m\n\u001b[0;32m    719\u001b[0m         \u001b[1;32mif\u001b[0m \u001b[0mforce_all_finite\u001b[0m\u001b[1;33m:\u001b[0m\u001b[1;33m\u001b[0m\u001b[1;33m\u001b[0m\u001b[0m\n\u001b[1;32m--> 720\u001b[1;33m             _assert_all_finite(array,\n\u001b[0m\u001b[0;32m    721\u001b[0m                                allow_nan=force_all_finite == 'allow-nan')\n\u001b[0;32m    722\u001b[0m \u001b[1;33m\u001b[0m\u001b[0m\n",
      "\u001b[1;32m~\\anaconda3\\lib\\site-packages\\sklearn\\utils\\validation.py\u001b[0m in \u001b[0;36m_assert_all_finite\u001b[1;34m(X, allow_nan, msg_dtype)\u001b[0m\n\u001b[0;32m    101\u001b[0m                 not allow_nan and not np.isfinite(X).all()):\n\u001b[0;32m    102\u001b[0m             \u001b[0mtype_err\u001b[0m \u001b[1;33m=\u001b[0m \u001b[1;34m'infinity'\u001b[0m \u001b[1;32mif\u001b[0m \u001b[0mallow_nan\u001b[0m \u001b[1;32melse\u001b[0m \u001b[1;34m'NaN, infinity'\u001b[0m\u001b[1;33m\u001b[0m\u001b[1;33m\u001b[0m\u001b[0m\n\u001b[1;32m--> 103\u001b[1;33m             raise ValueError(\n\u001b[0m\u001b[0;32m    104\u001b[0m                     \u001b[0mmsg_err\u001b[0m\u001b[1;33m.\u001b[0m\u001b[0mformat\u001b[0m\u001b[1;33m\u001b[0m\u001b[1;33m\u001b[0m\u001b[0m\n\u001b[0;32m    105\u001b[0m                     (type_err,\n",
      "\u001b[1;31mValueError\u001b[0m: Input contains NaN, infinity or a value too large for dtype('float64')."
     ]
    }
   ],
   "source": [
    "LR.fit(train_x,train_y)"
   ]
  },
  {
   "cell_type": "code",
   "execution_count": 179,
   "id": "2e5cbddc",
   "metadata": {},
   "outputs": [
    {
     "ename": "AttributeError",
     "evalue": "'LinearRegression' object has no attribute 'intercept_'",
     "output_type": "error",
     "traceback": [
      "\u001b[1;31m---------------------------------------------------------------------------\u001b[0m",
      "\u001b[1;31mAttributeError\u001b[0m                            Traceback (most recent call last)",
      "\u001b[1;32mC:\\Users\\NISHAP~1\\AppData\\Local\\Temp/ipykernel_6256/1692026488.py\u001b[0m in \u001b[0;36m<module>\u001b[1;34m\u001b[0m\n\u001b[1;32m----> 1\u001b[1;33m \u001b[0mLR\u001b[0m\u001b[1;33m.\u001b[0m\u001b[0mintercept_\u001b[0m\u001b[1;33m\u001b[0m\u001b[1;33m\u001b[0m\u001b[0m\n\u001b[0m",
      "\u001b[1;31mAttributeError\u001b[0m: 'LinearRegression' object has no attribute 'intercept_'"
     ]
    }
   ],
   "source": [
    "LR.intercept_"
   ]
  },
  {
   "cell_type": "code",
   "execution_count": null,
   "id": "1829cdf5",
   "metadata": {},
   "outputs": [],
   "source": [
    "LR.coef_"
   ]
  },
  {
   "cell_type": "code",
   "execution_count": null,
   "id": "8d40eb91",
   "metadata": {},
   "outputs": [],
   "source": [
    "y1=LR.predict(test_c1)"
   ]
  },
  {
   "cell_type": "code",
   "execution_count": null,
   "id": "bf45b78f",
   "metadata": {},
   "outputs": [],
   "source": [
    "y1"
   ]
  },
  {
   "cell_type": "code",
   "execution_count": null,
   "id": "8b0afcf8",
   "metadata": {},
   "outputs": [],
   "source": [
    "coeff_bmart1=pd.DataFrame(LR.coef_,train_x.columns,columns=[\"Coefficient\"])\n",
    "coeff_bmart1"
   ]
  },
  {
   "cell_type": "code",
   "execution_count": null,
   "id": "a4af7acd",
   "metadata": {},
   "outputs": [],
   "source": [
    "train_y_pred = LR.predict(test_c1)\n",
    "pd=pd.DataFrame({\"Actual\" :,\n",
    "                \"Predicted\":y_pred})"
   ]
  },
  {
   "cell_type": "code",
   "execution_count": null,
   "id": "08799c0e",
   "metadata": {},
   "outputs": [],
   "source": [
    "test_final=bmart[bmart.Item_Outlet_Sales.isnull()]"
   ]
  },
  {
   "cell_type": "code",
   "execution_count": null,
   "id": "d0766915",
   "metadata": {},
   "outputs": [],
   "source": [
    "test_final.shape"
   ]
  },
  {
   "cell_type": "code",
   "execution_count": null,
   "id": "1b06e9e1",
   "metadata": {},
   "outputs": [],
   "source": [
    "test_final= test_final[[\"Item_Identifier\",\"Outlet_Identifier\"]]"
   ]
  },
  {
   "cell_type": "code",
   "execution_count": null,
   "id": "545e9b44",
   "metadata": {},
   "outputs": [],
   "source": [
    "test_final"
   ]
  },
  {
   "cell_type": "code",
   "execution_count": null,
   "id": "4f441792",
   "metadata": {},
   "outputs": [],
   "source": [
    "data_pred=pd.concat([test_final,pd.DataFrame(y1)],axis=1)"
   ]
  },
  {
   "cell_type": "code",
   "execution_count": null,
   "id": "3a7aa494",
   "metadata": {},
   "outputs": [],
   "source": [
    "data_pred"
   ]
  },
  {
   "cell_type": "code",
   "execution_count": null,
   "id": "6a358f63",
   "metadata": {},
   "outputs": [],
   "source": [
    "data_pred.to_csv(\"Final_Output.csv\",index=False)"
   ]
  },
  {
   "cell_type": "code",
   "execution_count": null,
   "id": "d36bfac6",
   "metadata": {},
   "outputs": [],
   "source": [
    "bmart1"
   ]
  },
  {
   "cell_type": "code",
   "execution_count": null,
   "id": "ead54710",
   "metadata": {},
   "outputs": [],
   "source": [
    "sns.distplot(bmart1[\"Item_Outlet_Sales\"])"
   ]
  },
  {
   "cell_type": "code",
   "execution_count": null,
   "id": "a009c542",
   "metadata": {},
   "outputs": [],
   "source": [
    "sns.scatterplot(x='Item_Outlet_Sales',y='Item_Visibility',data=bmart1,hue='Item_Outlet_Sales')"
   ]
  },
  {
   "cell_type": "code",
   "execution_count": null,
   "id": "04e4079c",
   "metadata": {},
   "outputs": [],
   "source": [
    "sns.distplot(np.sqrt(bmart1['Item_Visibility']))"
   ]
  },
  {
   "cell_type": "code",
   "execution_count": null,
   "id": "b6db9aed",
   "metadata": {},
   "outputs": [],
   "source": [
    "sns.distplot(bmart1['Item_Visibility'])\n",
    "plt.show()"
   ]
  },
  {
   "cell_type": "code",
   "execution_count": null,
   "id": "167531be",
   "metadata": {},
   "outputs": [],
   "source": [
    "sns.scatterplot(bmart1['Item_MRP'],bmart1['Item_Outlet_Sales'])"
   ]
  },
  {
   "cell_type": "code",
   "execution_count": null,
   "id": "9a277dba",
   "metadata": {},
   "outputs": [],
   "source": [
    "sns.scatterplot(bmart1['Item_Identifier'].str[:2],bmart1['Item_MRP'])"
   ]
  },
  {
   "cell_type": "code",
   "execution_count": null,
   "id": "e1a2e530",
   "metadata": {},
   "outputs": [],
   "source": [
    "sns.boxplot(bmart1['Outlet_Size'],bmart1['Item_Outlet_Sales'])"
   ]
  },
  {
   "cell_type": "code",
   "execution_count": null,
   "id": "8cb901fd",
   "metadata": {},
   "outputs": [],
   "source": [
    "sns.violinplot(bmart1['Outlet_Size'].fillna(\"MISSING\"),bmart1['Item_Outlet_Sales'])"
   ]
  },
  {
   "cell_type": "code",
   "execution_count": null,
   "id": "7114672e",
   "metadata": {},
   "outputs": [],
   "source": [
    "bmart1.info()"
   ]
  },
  {
   "cell_type": "code",
   "execution_count": null,
   "id": "7f89c60e",
   "metadata": {},
   "outputs": [],
   "source": [
    "bmart1.head()"
   ]
  },
  {
   "cell_type": "code",
   "execution_count": 180,
   "id": "12f02124",
   "metadata": {},
   "outputs": [
    {
     "data": {
      "text/html": [
       "<div>\n",
       "<style scoped>\n",
       "    .dataframe tbody tr th:only-of-type {\n",
       "        vertical-align: middle;\n",
       "    }\n",
       "\n",
       "    .dataframe tbody tr th {\n",
       "        vertical-align: top;\n",
       "    }\n",
       "\n",
       "    .dataframe thead th {\n",
       "        text-align: right;\n",
       "    }\n",
       "</style>\n",
       "<table border=\"1\" class=\"dataframe\">\n",
       "  <thead>\n",
       "    <tr style=\"text-align: right;\">\n",
       "      <th></th>\n",
       "      <th>Item_Weight</th>\n",
       "      <th>Item_Visibility</th>\n",
       "      <th>Item_MRP</th>\n",
       "      <th>Outlet_Establishment_Year</th>\n",
       "      <th>Item_Identifier_DRA24</th>\n",
       "      <th>Item_Identifier_DRA59</th>\n",
       "      <th>Item_Identifier_DRB01</th>\n",
       "      <th>Item_Identifier_DRB13</th>\n",
       "      <th>Item_Identifier_DRB24</th>\n",
       "      <th>Item_Identifier_DRB25</th>\n",
       "      <th>...</th>\n",
       "      <th>Outlet_Identifier_OUT045</th>\n",
       "      <th>Outlet_Identifier_OUT046</th>\n",
       "      <th>Outlet_Identifier_OUT049</th>\n",
       "      <th>Outlet_Size_Medium</th>\n",
       "      <th>Outlet_Size_Small</th>\n",
       "      <th>Outlet_Location_Type_Tier 2</th>\n",
       "      <th>Outlet_Location_Type_Tier 3</th>\n",
       "      <th>Outlet_Type_Supermarket Type1</th>\n",
       "      <th>Outlet_Type_Supermarket Type2</th>\n",
       "      <th>Outlet_Type_Supermarket Type3</th>\n",
       "    </tr>\n",
       "  </thead>\n",
       "  <tbody>\n",
       "    <tr>\n",
       "      <th>0</th>\n",
       "      <td>9.300</td>\n",
       "      <td>0.016047</td>\n",
       "      <td>249.8092</td>\n",
       "      <td>1999</td>\n",
       "      <td>0</td>\n",
       "      <td>0</td>\n",
       "      <td>0</td>\n",
       "      <td>0</td>\n",
       "      <td>0</td>\n",
       "      <td>0</td>\n",
       "      <td>...</td>\n",
       "      <td>0</td>\n",
       "      <td>0</td>\n",
       "      <td>1</td>\n",
       "      <td>1</td>\n",
       "      <td>0</td>\n",
       "      <td>0</td>\n",
       "      <td>0</td>\n",
       "      <td>1</td>\n",
       "      <td>0</td>\n",
       "      <td>0</td>\n",
       "    </tr>\n",
       "    <tr>\n",
       "      <th>1</th>\n",
       "      <td>5.920</td>\n",
       "      <td>0.019278</td>\n",
       "      <td>48.2692</td>\n",
       "      <td>2009</td>\n",
       "      <td>0</td>\n",
       "      <td>0</td>\n",
       "      <td>0</td>\n",
       "      <td>0</td>\n",
       "      <td>0</td>\n",
       "      <td>0</td>\n",
       "      <td>...</td>\n",
       "      <td>0</td>\n",
       "      <td>0</td>\n",
       "      <td>0</td>\n",
       "      <td>1</td>\n",
       "      <td>0</td>\n",
       "      <td>0</td>\n",
       "      <td>1</td>\n",
       "      <td>0</td>\n",
       "      <td>1</td>\n",
       "      <td>0</td>\n",
       "    </tr>\n",
       "    <tr>\n",
       "      <th>2</th>\n",
       "      <td>17.500</td>\n",
       "      <td>0.016760</td>\n",
       "      <td>141.6180</td>\n",
       "      <td>1999</td>\n",
       "      <td>0</td>\n",
       "      <td>0</td>\n",
       "      <td>0</td>\n",
       "      <td>0</td>\n",
       "      <td>0</td>\n",
       "      <td>0</td>\n",
       "      <td>...</td>\n",
       "      <td>0</td>\n",
       "      <td>0</td>\n",
       "      <td>1</td>\n",
       "      <td>1</td>\n",
       "      <td>0</td>\n",
       "      <td>0</td>\n",
       "      <td>0</td>\n",
       "      <td>1</td>\n",
       "      <td>0</td>\n",
       "      <td>0</td>\n",
       "    </tr>\n",
       "    <tr>\n",
       "      <th>3</th>\n",
       "      <td>19.200</td>\n",
       "      <td>0.000000</td>\n",
       "      <td>182.0950</td>\n",
       "      <td>1998</td>\n",
       "      <td>0</td>\n",
       "      <td>0</td>\n",
       "      <td>0</td>\n",
       "      <td>0</td>\n",
       "      <td>0</td>\n",
       "      <td>0</td>\n",
       "      <td>...</td>\n",
       "      <td>0</td>\n",
       "      <td>0</td>\n",
       "      <td>0</td>\n",
       "      <td>0</td>\n",
       "      <td>1</td>\n",
       "      <td>0</td>\n",
       "      <td>1</td>\n",
       "      <td>0</td>\n",
       "      <td>0</td>\n",
       "      <td>0</td>\n",
       "    </tr>\n",
       "    <tr>\n",
       "      <th>4</th>\n",
       "      <td>8.930</td>\n",
       "      <td>0.000000</td>\n",
       "      <td>53.8614</td>\n",
       "      <td>1987</td>\n",
       "      <td>0</td>\n",
       "      <td>0</td>\n",
       "      <td>0</td>\n",
       "      <td>0</td>\n",
       "      <td>0</td>\n",
       "      <td>0</td>\n",
       "      <td>...</td>\n",
       "      <td>0</td>\n",
       "      <td>0</td>\n",
       "      <td>0</td>\n",
       "      <td>0</td>\n",
       "      <td>0</td>\n",
       "      <td>0</td>\n",
       "      <td>1</td>\n",
       "      <td>1</td>\n",
       "      <td>0</td>\n",
       "      <td>0</td>\n",
       "    </tr>\n",
       "    <tr>\n",
       "      <th>...</th>\n",
       "      <td>...</td>\n",
       "      <td>...</td>\n",
       "      <td>...</td>\n",
       "      <td>...</td>\n",
       "      <td>...</td>\n",
       "      <td>...</td>\n",
       "      <td>...</td>\n",
       "      <td>...</td>\n",
       "      <td>...</td>\n",
       "      <td>...</td>\n",
       "      <td>...</td>\n",
       "      <td>...</td>\n",
       "      <td>...</td>\n",
       "      <td>...</td>\n",
       "      <td>...</td>\n",
       "      <td>...</td>\n",
       "      <td>...</td>\n",
       "      <td>...</td>\n",
       "      <td>...</td>\n",
       "      <td>...</td>\n",
       "      <td>...</td>\n",
       "    </tr>\n",
       "    <tr>\n",
       "      <th>8518</th>\n",
       "      <td>6.865</td>\n",
       "      <td>0.056783</td>\n",
       "      <td>214.5218</td>\n",
       "      <td>1987</td>\n",
       "      <td>0</td>\n",
       "      <td>0</td>\n",
       "      <td>0</td>\n",
       "      <td>0</td>\n",
       "      <td>0</td>\n",
       "      <td>0</td>\n",
       "      <td>...</td>\n",
       "      <td>0</td>\n",
       "      <td>0</td>\n",
       "      <td>0</td>\n",
       "      <td>0</td>\n",
       "      <td>0</td>\n",
       "      <td>0</td>\n",
       "      <td>1</td>\n",
       "      <td>1</td>\n",
       "      <td>0</td>\n",
       "      <td>0</td>\n",
       "    </tr>\n",
       "    <tr>\n",
       "      <th>8519</th>\n",
       "      <td>8.380</td>\n",
       "      <td>0.046982</td>\n",
       "      <td>108.1570</td>\n",
       "      <td>2002</td>\n",
       "      <td>0</td>\n",
       "      <td>0</td>\n",
       "      <td>0</td>\n",
       "      <td>0</td>\n",
       "      <td>0</td>\n",
       "      <td>0</td>\n",
       "      <td>...</td>\n",
       "      <td>1</td>\n",
       "      <td>0</td>\n",
       "      <td>0</td>\n",
       "      <td>0</td>\n",
       "      <td>1</td>\n",
       "      <td>1</td>\n",
       "      <td>0</td>\n",
       "      <td>1</td>\n",
       "      <td>0</td>\n",
       "      <td>0</td>\n",
       "    </tr>\n",
       "    <tr>\n",
       "      <th>8520</th>\n",
       "      <td>10.600</td>\n",
       "      <td>0.035186</td>\n",
       "      <td>85.1224</td>\n",
       "      <td>2004</td>\n",
       "      <td>0</td>\n",
       "      <td>0</td>\n",
       "      <td>0</td>\n",
       "      <td>0</td>\n",
       "      <td>0</td>\n",
       "      <td>0</td>\n",
       "      <td>...</td>\n",
       "      <td>0</td>\n",
       "      <td>0</td>\n",
       "      <td>0</td>\n",
       "      <td>0</td>\n",
       "      <td>1</td>\n",
       "      <td>1</td>\n",
       "      <td>0</td>\n",
       "      <td>1</td>\n",
       "      <td>0</td>\n",
       "      <td>0</td>\n",
       "    </tr>\n",
       "    <tr>\n",
       "      <th>8521</th>\n",
       "      <td>7.210</td>\n",
       "      <td>0.145221</td>\n",
       "      <td>103.1332</td>\n",
       "      <td>2009</td>\n",
       "      <td>0</td>\n",
       "      <td>0</td>\n",
       "      <td>0</td>\n",
       "      <td>0</td>\n",
       "      <td>0</td>\n",
       "      <td>0</td>\n",
       "      <td>...</td>\n",
       "      <td>0</td>\n",
       "      <td>0</td>\n",
       "      <td>0</td>\n",
       "      <td>1</td>\n",
       "      <td>0</td>\n",
       "      <td>0</td>\n",
       "      <td>1</td>\n",
       "      <td>0</td>\n",
       "      <td>1</td>\n",
       "      <td>0</td>\n",
       "    </tr>\n",
       "    <tr>\n",
       "      <th>8522</th>\n",
       "      <td>14.800</td>\n",
       "      <td>0.044878</td>\n",
       "      <td>75.4670</td>\n",
       "      <td>1997</td>\n",
       "      <td>0</td>\n",
       "      <td>0</td>\n",
       "      <td>0</td>\n",
       "      <td>0</td>\n",
       "      <td>0</td>\n",
       "      <td>0</td>\n",
       "      <td>...</td>\n",
       "      <td>0</td>\n",
       "      <td>1</td>\n",
       "      <td>0</td>\n",
       "      <td>0</td>\n",
       "      <td>1</td>\n",
       "      <td>0</td>\n",
       "      <td>0</td>\n",
       "      <td>1</td>\n",
       "      <td>0</td>\n",
       "      <td>0</td>\n",
       "    </tr>\n",
       "  </tbody>\n",
       "</table>\n",
       "<p>8523 rows × 1597 columns</p>\n",
       "</div>"
      ],
      "text/plain": [
       "      Item_Weight  Item_Visibility  Item_MRP  Outlet_Establishment_Year  \\\n",
       "0           9.300         0.016047  249.8092                       1999   \n",
       "1           5.920         0.019278   48.2692                       2009   \n",
       "2          17.500         0.016760  141.6180                       1999   \n",
       "3          19.200         0.000000  182.0950                       1998   \n",
       "4           8.930         0.000000   53.8614                       1987   \n",
       "...           ...              ...       ...                        ...   \n",
       "8518        6.865         0.056783  214.5218                       1987   \n",
       "8519        8.380         0.046982  108.1570                       2002   \n",
       "8520       10.600         0.035186   85.1224                       2004   \n",
       "8521        7.210         0.145221  103.1332                       2009   \n",
       "8522       14.800         0.044878   75.4670                       1997   \n",
       "\n",
       "      Item_Identifier_DRA24  Item_Identifier_DRA59  Item_Identifier_DRB01  \\\n",
       "0                         0                      0                      0   \n",
       "1                         0                      0                      0   \n",
       "2                         0                      0                      0   \n",
       "3                         0                      0                      0   \n",
       "4                         0                      0                      0   \n",
       "...                     ...                    ...                    ...   \n",
       "8518                      0                      0                      0   \n",
       "8519                      0                      0                      0   \n",
       "8520                      0                      0                      0   \n",
       "8521                      0                      0                      0   \n",
       "8522                      0                      0                      0   \n",
       "\n",
       "      Item_Identifier_DRB13  Item_Identifier_DRB24  Item_Identifier_DRB25  \\\n",
       "0                         0                      0                      0   \n",
       "1                         0                      0                      0   \n",
       "2                         0                      0                      0   \n",
       "3                         0                      0                      0   \n",
       "4                         0                      0                      0   \n",
       "...                     ...                    ...                    ...   \n",
       "8518                      0                      0                      0   \n",
       "8519                      0                      0                      0   \n",
       "8520                      0                      0                      0   \n",
       "8521                      0                      0                      0   \n",
       "8522                      0                      0                      0   \n",
       "\n",
       "      ...  Outlet_Identifier_OUT045  Outlet_Identifier_OUT046  \\\n",
       "0     ...                         0                         0   \n",
       "1     ...                         0                         0   \n",
       "2     ...                         0                         0   \n",
       "3     ...                         0                         0   \n",
       "4     ...                         0                         0   \n",
       "...   ...                       ...                       ...   \n",
       "8518  ...                         0                         0   \n",
       "8519  ...                         1                         0   \n",
       "8520  ...                         0                         0   \n",
       "8521  ...                         0                         0   \n",
       "8522  ...                         0                         1   \n",
       "\n",
       "      Outlet_Identifier_OUT049  Outlet_Size_Medium  Outlet_Size_Small  \\\n",
       "0                            1                   1                  0   \n",
       "1                            0                   1                  0   \n",
       "2                            1                   1                  0   \n",
       "3                            0                   0                  1   \n",
       "4                            0                   0                  0   \n",
       "...                        ...                 ...                ...   \n",
       "8518                         0                   0                  0   \n",
       "8519                         0                   0                  1   \n",
       "8520                         0                   0                  1   \n",
       "8521                         0                   1                  0   \n",
       "8522                         0                   0                  1   \n",
       "\n",
       "      Outlet_Location_Type_Tier 2  Outlet_Location_Type_Tier 3  \\\n",
       "0                               0                            0   \n",
       "1                               0                            1   \n",
       "2                               0                            0   \n",
       "3                               0                            1   \n",
       "4                               0                            1   \n",
       "...                           ...                          ...   \n",
       "8518                            0                            1   \n",
       "8519                            1                            0   \n",
       "8520                            1                            0   \n",
       "8521                            0                            1   \n",
       "8522                            0                            0   \n",
       "\n",
       "      Outlet_Type_Supermarket Type1  Outlet_Type_Supermarket Type2  \\\n",
       "0                                 1                              0   \n",
       "1                                 0                              1   \n",
       "2                                 1                              0   \n",
       "3                                 0                              0   \n",
       "4                                 1                              0   \n",
       "...                             ...                            ...   \n",
       "8518                              1                              0   \n",
       "8519                              1                              0   \n",
       "8520                              1                              0   \n",
       "8521                              0                              1   \n",
       "8522                              1                              0   \n",
       "\n",
       "      Outlet_Type_Supermarket Type3  \n",
       "0                                 0  \n",
       "1                                 0  \n",
       "2                                 0  \n",
       "3                                 0  \n",
       "4                                 0  \n",
       "...                             ...  \n",
       "8518                              0  \n",
       "8519                              0  \n",
       "8520                              0  \n",
       "8521                              0  \n",
       "8522                              0  \n",
       "\n",
       "[8523 rows x 1597 columns]"
      ]
     },
     "execution_count": 180,
     "metadata": {},
     "output_type": "execute_result"
    }
   ],
   "source": [
    "train_x"
   ]
  },
  {
   "cell_type": "code",
   "execution_count": 181,
   "id": "7b31e43d",
   "metadata": {},
   "outputs": [
    {
     "data": {
      "text/plain": [
       "0       3735.1380\n",
       "1        443.4228\n",
       "2       2097.2700\n",
       "3        732.3800\n",
       "4        994.7052\n",
       "          ...    \n",
       "8518    2778.3834\n",
       "8519     549.2850\n",
       "8520    1193.1136\n",
       "8521    1845.5976\n",
       "8522     765.6700\n",
       "Name: Item_Outlet_Sales, Length: 8523, dtype: float64"
      ]
     },
     "execution_count": 181,
     "metadata": {},
     "output_type": "execute_result"
    }
   ],
   "source": [
    "train_y"
   ]
  },
  {
   "cell_type": "code",
   "execution_count": null,
   "id": "9d17bfcc",
   "metadata": {},
   "outputs": [],
   "source": []
  }
 ],
 "metadata": {
  "kernelspec": {
   "display_name": "Python 3 (ipykernel)",
   "language": "python",
   "name": "python3"
  },
  "language_info": {
   "codemirror_mode": {
    "name": "ipython",
    "version": 3
   },
   "file_extension": ".py",
   "mimetype": "text/x-python",
   "name": "python",
   "nbconvert_exporter": "python",
   "pygments_lexer": "ipython3",
   "version": "3.9.7"
  }
 },
 "nbformat": 4,
 "nbformat_minor": 5
}
